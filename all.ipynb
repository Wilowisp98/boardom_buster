{
 "cells": [
  {
   "cell_type": "code",
   "execution_count": 2,
   "metadata": {},
   "outputs": [],
   "source": [
    "import polars as pl"
   ]
  },
  {
   "cell_type": "code",
   "execution_count": 4,
   "metadata": {},
   "outputs": [],
   "source": [
    "df = pl.read_parquet(\"bgg/data/raw_bgg_data_20250206.parquet\")"
   ]
  },
  {
   "cell_type": "code",
   "execution_count": 6,
   "metadata": {},
   "outputs": [],
   "source": [
    "a = df.unique(subset=\"language_dependence_description\")"
   ]
  },
  {
   "cell_type": "code",
   "execution_count": 7,
   "metadata": {},
   "outputs": [
    {
     "data": {
      "text/html": [
       "<div><style>\n",
       ".dataframe > thead > tr,\n",
       ".dataframe > tbody > tr {\n",
       "  text-align: right;\n",
       "  white-space: pre-wrap;\n",
       "}\n",
       "</style>\n",
       "<small>shape: (5, 30)</small><table border=\"1\" class=\"dataframe\"><thead><tr><th>game_name</th><th>description</th><th>subcategory_1</th><th>subcategory_2</th><th>publication_year</th><th>min_players</th><th>max_players</th><th>best_num_players</th><th>recommended_num_players</th><th>suggested_play_age</th><th>categories</th><th>mechanics</th><th>families</th><th>designers</th><th>artists</th><th>publishers</th><th>playing_time</th><th>min_playtime</th><th>max_playtime</th><th>min_age</th><th>language_dependence_description</th><th>game_rank</th><th>avg_rating</th><th>num_rates</th><th>rank_subcategory_1</th><th>rank_subcategory_2</th><th>avg_weight</th><th>num_weights</th><th>owned_by</th><th>wished_by</th></tr><tr><td>str</td><td>str</td><td>str</td><td>str</td><td>i32</td><td>i32</td><td>i32</td><td>i32</td><td>i32</td><td>i32</td><td>list[str]</td><td>list[str]</td><td>list[str]</td><td>list[str]</td><td>list[str]</td><td>list[str]</td><td>i32</td><td>i32</td><td>i32</td><td>i32</td><td>str</td><td>i32</td><td>f64</td><td>i32</td><td>i32</td><td>i32</td><td>f64</td><td>i32</td><td>i32</td><td>i32</td></tr></thead><tbody><tr><td>&quot;Dragonmaster&quot;</td><td>&quot;Dragonmaster is a trick-taking…</td><td>&quot;strategygames&quot;</td><td>null</td><td>1981</td><td>3</td><td>4</td><td>4</td><td>3</td><td>null</td><td>[&quot;Card Game&quot;, &quot;Fantasy&quot;]</td><td>[&quot;Trick-taking&quot;]</td><td>[&quot;Components: Gems/Crystals&quot;, &quot;Creatures: Dragons&quot;, &quot;Theme: Art style – Art Nouveau&quot;]</td><td>[&quot;G. W. &quot;Jerry&quot; D&#x27;Arcey&quot;]</td><td>[&quot;Bob Pepper&quot;]</td><td>[&quot;E. S. Lowe Company Inc.&quot;, &quot;Milton Bradley&quot;]</td><td>30</td><td>30</td><td>30</td><td>12</td><td>&quot;Some necessary text - easily m…</td><td>5179</td><td>6.65748</td><td>602</td><td>2002</td><td>null</td><td>1.9643</td><td>56</td><td>1417</td><td>217</td></tr><tr><td>&quot;Cosmic Encounter&quot;</td><td>&quot;By request of Fantasy Flight G…</td><td>&quot;thematic&quot;</td><td>&quot;strategygames&quot;</td><td>1977</td><td>2</td><td>6</td><td>4</td><td>6</td><td>12</td><td>[&quot;Bluffing&quot;, &quot;Negotiation&quot;, &quot;Science Fiction&quot;]</td><td>[&quot;Alliances&quot;, &quot;Hand Management&quot;, … &quot;Variable Player Powers&quot;]</td><td>[&quot;Admin: Better Description Needed!&quot;, &quot;Creatures: Aliens / Extraterrestrials&quot;, … &quot;Misc: Dice Tower Hall of Fame&quot;]</td><td>[&quot;Bill Eberle&quot;, &quot;Jack Kittredge&quot;, … &quot;Peter Olotka&quot;]</td><td>[&quot;John Blanche&quot;, &quot;Chris Ferguson&quot;, … &quot;Lori Walls&quot;]</td><td>[&quot;Eon&quot;, &quot;Alga&quot;, … &quot;West End Games&quot;]</td><td>90</td><td>90</td><td>90</td><td>12</td><td>&quot;Moderate in-game text - needs …</td><td>1539</td><td>6.92645</td><td>3979</td><td>369</td><td>916</td><td>2.3721</td><td>430</td><td>4508</td><td>487</td></tr><tr><td>&quot;Die Macher&quot;</td><td>&quot;Die Macher is a game about sev…</td><td>&quot;strategygames&quot;</td><td>null</td><td>1986</td><td>3</td><td>5</td><td>5</td><td>4</td><td>14</td><td>[&quot;Economic&quot;, &quot;Negotiation&quot;, &quot;Political&quot;]</td><td>[&quot;Alliances&quot;, &quot;Area Majority / Influence&quot;, … &quot;Simultaneous Action Selection&quot;]</td><td>[&quot;Country: Germany&quot;, &quot;Digital Implementations: VASSAL&quot;, … &quot;Series: Classic Line (Valley Games)&quot;]</td><td>[&quot;Karl-Heinz Schmiel&quot;]</td><td>[&quot;Bernd Brunnhofer&quot;, &quot;Marcus Gschwendtner&quot;, &quot;Harald Lieske&quot;]</td><td>[&quot;Hans im Glück&quot;, &quot;Moskito Spiele&quot;, … &quot;YOKA Games&quot;]</td><td>240</td><td>240</td><td>240</td><td>14</td><td>&quot;No necessary in-game text&quot;</td><td>452</td><td>7.59004</td><td>5872</td><td>262</td><td>null</td><td>4.3101</td><td>790</td><td>8287</td><td>2183</td></tr><tr><td>&quot;Dragon Masters&quot;</td><td>&quot;This odd little game put out b…</td><td>&quot;wargames&quot;</td><td>null</td><td>1991</td><td>2</td><td>4</td><td>null</td><td>null</td><td>8</td><td>[&quot;Fantasy&quot;, &quot;Wargame&quot;]</td><td>[]</td><td>[&quot;Creatures: Dragons&quot;, &quot;Setting: Warhammer Fantasy Board Games&quot;]</td><td>[&quot;Ian Livingstone&quot;]</td><td>[&quot;Christos Achilleos&quot;]</td><td>[&quot;Games Workshop Ltd.&quot;]</td><td>120</td><td>120</td><td>120</td><td>12</td><td>null</td><td>20986</td><td>5.8</td><td>153</td><td>3858</td><td>null</td><td>2.0909</td><td>11</td><td>396</td><td>57</td></tr><tr><td>&quot;Battlemist&quot;</td><td>&quot;In this fantasy relative to Tw…</td><td>&quot;wargames&quot;</td><td>&quot;thematic&quot;</td><td>1998</td><td>2</td><td>6</td><td>4</td><td>3</td><td>12</td><td>[&quot;Exploration&quot;, &quot;Fantasy&quot;, &quot;Wargame&quot;]</td><td>[&quot;Dice Rolling&quot;, &quot;Hexagon Grid&quot;]</td><td>[&quot;Mechanism: 4X&quot;, &quot;Setting: The Realms of Terrinoth&quot;]</td><td>[&quot;Christian T. Petersen&quot;]</td><td>[&quot;Bill Heagy&quot;, &quot;Christian T. Petersen&quot;]</td><td>[&quot;Fantasy Flight Games&quot;]</td><td>200</td><td>200</td><td>200</td><td>12</td><td>&quot;Extensive use of text - massiv…</td><td>12662</td><td>5.89713</td><td>329</td><td>2896</td><td>1392</td><td>3.2</td><td>20</td><td>693</td><td>56</td></tr></tbody></table></div>"
      ],
      "text/plain": [
       "shape: (5, 30)\n",
       "┌───────────┬───────────┬───────────┬───────────┬───┬───────────┬───────────┬──────────┬───────────┐\n",
       "│ game_name ┆ descripti ┆ subcatego ┆ subcatego ┆ … ┆ avg_weigh ┆ num_weigh ┆ owned_by ┆ wished_by │\n",
       "│ ---       ┆ on        ┆ ry_1      ┆ ry_2      ┆   ┆ t         ┆ ts        ┆ ---      ┆ ---       │\n",
       "│ str       ┆ ---       ┆ ---       ┆ ---       ┆   ┆ ---       ┆ ---       ┆ i32      ┆ i32       │\n",
       "│           ┆ str       ┆ str       ┆ str       ┆   ┆ f64       ┆ i32       ┆          ┆           │\n",
       "╞═══════════╪═══════════╪═══════════╪═══════════╪═══╪═══════════╪═══════════╪══════════╪═══════════╡\n",
       "│ Dragonmas ┆ Dragonmas ┆ strategyg ┆ null      ┆ … ┆ 1.9643    ┆ 56        ┆ 1417     ┆ 217       │\n",
       "│ ter       ┆ ter is a  ┆ ames      ┆           ┆   ┆           ┆           ┆          ┆           │\n",
       "│           ┆ trick-tak ┆           ┆           ┆   ┆           ┆           ┆          ┆           │\n",
       "│           ┆ ing…      ┆           ┆           ┆   ┆           ┆           ┆          ┆           │\n",
       "│ Cosmic    ┆ By        ┆ thematic  ┆ strategyg ┆ … ┆ 2.3721    ┆ 430       ┆ 4508     ┆ 487       │\n",
       "│ Encounter ┆ request   ┆           ┆ ames      ┆   ┆           ┆           ┆          ┆           │\n",
       "│           ┆ of        ┆           ┆           ┆   ┆           ┆           ┆          ┆           │\n",
       "│           ┆ Fantasy   ┆           ┆           ┆   ┆           ┆           ┆          ┆           │\n",
       "│           ┆ Flight G… ┆           ┆           ┆   ┆           ┆           ┆          ┆           │\n",
       "│ Die       ┆ Die       ┆ strategyg ┆ null      ┆ … ┆ 4.3101    ┆ 790       ┆ 8287     ┆ 2183      │\n",
       "│ Macher    ┆ Macher is ┆ ames      ┆           ┆   ┆           ┆           ┆          ┆           │\n",
       "│           ┆ a game    ┆           ┆           ┆   ┆           ┆           ┆          ┆           │\n",
       "│           ┆ about     ┆           ┆           ┆   ┆           ┆           ┆          ┆           │\n",
       "│           ┆ sev…      ┆           ┆           ┆   ┆           ┆           ┆          ┆           │\n",
       "│ Dragon    ┆ This odd  ┆ wargames  ┆ null      ┆ … ┆ 2.0909    ┆ 11        ┆ 396      ┆ 57        │\n",
       "│ Masters   ┆ little    ┆           ┆           ┆   ┆           ┆           ┆          ┆           │\n",
       "│           ┆ game put  ┆           ┆           ┆   ┆           ┆           ┆          ┆           │\n",
       "│           ┆ out b…    ┆           ┆           ┆   ┆           ┆           ┆          ┆           │\n",
       "│ Battlemis ┆ In this   ┆ wargames  ┆ thematic  ┆ … ┆ 3.2       ┆ 20        ┆ 693      ┆ 56        │\n",
       "│ t         ┆ fantasy   ┆           ┆           ┆   ┆           ┆           ┆          ┆           │\n",
       "│           ┆ relative  ┆           ┆           ┆   ┆           ┆           ┆          ┆           │\n",
       "│           ┆ to Tw…    ┆           ┆           ┆   ┆           ┆           ┆          ┆           │\n",
       "└───────────┴───────────┴───────────┴───────────┴───┴───────────┴───────────┴──────────┴───────────┘"
      ]
     },
     "execution_count": 7,
     "metadata": {},
     "output_type": "execute_result"
    }
   ],
   "source": [
    "a"
   ]
  },
  {
   "cell_type": "code",
   "execution_count": 8,
   "metadata": {},
   "outputs": [
    {
     "name": "stdout",
     "output_type": "stream",
     "text": [
      "Bin 1: 1 members\n",
      "Bin 2: 1 members\n",
      "Bin 3: 1 members\n"
     ]
    }
   ],
   "source": [
    "import polars as pl\n",
    "from sklearn.metrics.pairwise import cosine_similarity\n",
    "import numpy as np\n",
    "\n",
    "# Example Polars DataFrame with board game features\n",
    "data = {\n",
    "    'feature1': [1, 0, 1],\n",
    "    'feature2': [0, 1, 0],\n",
    "    'feature3': [1, 1, 0],\n",
    "    'feature4': [0, 0, 1]\n",
    "}\n",
    "df = pl.DataFrame(data)\n",
    "\n",
    "# Similarity threshold\n",
    "threshold = 0.7\n",
    "\n",
    "# Initialize bins\n",
    "bins = [[data]]\n",
    "\n",
    "# Iterate over each board game\n",
    "for row in df.iter_rows(named=True):\n",
    "    # Convert Polars row to a list\n",
    "    row_values = list(row.values())\n",
    "\n",
    "    # Check similarity with existing bins\n",
    "    similar_bin = None\n",
    "    for bin in bins:\n",
    "        # Calculate similarity with the centroid of the bin\n",
    "        similarity = cosine_similarity([row_values], [bin['centroid']])[0][0]\n",
    "        if similarity > threshold:\n",
    "            similar_bin = bin\n",
    "            break\n",
    "\n",
    "    # Add to existing bin or create a new bin\n",
    "    if similar_bin:\n",
    "        similar_bin['members'].append(row_values)\n",
    "        similar_bin['centroid'] = np.mean(similar_bin['members'], axis=0)  # Update centroid\n",
    "    else:\n",
    "        bins.append({'members': [row_values], 'centroid': row_values})\n",
    "\n",
    "# Output the bins\n",
    "for i, bin in enumerate(bins):\n",
    "    print(f\"Bin {i+1}: {len(bin['members'])} members\")\n"
   ]
  },
  {
   "cell_type": "code",
   "execution_count": 9,
   "metadata": {},
   "outputs": [],
   "source": [
    "a = df.iter_rows(named=True)"
   ]
  },
  {
   "cell_type": "code",
   "execution_count": 36,
   "metadata": {},
   "outputs": [
    {
     "name": "stdout",
     "output_type": "stream",
     "text": [
      "Bin 1: 1 members\n",
      "Bin 2: 3 members\n",
      "Bin 3: 3 members\n",
      "Bin 4: 2 members\n",
      "Bin 5: 2 members\n",
      "Bin 6: 3 members\n",
      "Bin 7: 2 members\n"
     ]
    }
   ],
   "source": [
    "import polars as pl\n",
    "from sklearn.metrics.pairwise import cosine_similarity\n",
    "import numpy as np\n",
    "import itertools\n",
    "\n",
    "# Generate all possible combinations of the 4 features\n",
    "combinations = list(itertools.product([0, 1], repeat=4))\n",
    "\n",
    "# Create a DataFrame from the combinations\n",
    "data = {\n",
    "    'feature1': [comb[0] for comb in combinations],\n",
    "    'feature2': [comb[1] for comb in combinations],\n",
    "    'feature3': [comb[2] for comb in combinations],\n",
    "    'feature4': [comb[3] for comb in combinations]\n",
    "}\n",
    "df = pl.DataFrame(data)\n",
    "\n",
    "# Similarity threshold\n",
    "threshold = 0.7\n",
    "\n",
    "bins = []\n",
    "\n",
    "for board_game in df.iter_rows(named=True):\n",
    "    row_values = list(board_game.values())\n",
    "    if not bins:\n",
    "        bins.append({\n",
    "            'centroid': row_values,\n",
    "            'members': [row_values]\n",
    "        })\n",
    "        continue\n",
    "\n",
    "    similar_bin = None\n",
    "    similarity = -np.inf\n",
    "    for bin in bins:\n",
    "        current_similarity = cosine_similarity([row_values], [bin['centroid']])[0][0]\n",
    "        if current_similarity > max(similarity, threshold):\n",
    "            similar_bin = bin\n",
    "            similarity = current_similarity\n",
    "\n",
    "    if similar_bin:\n",
    "        similar_bin['members'].append(row_values)\n",
    "        similar_bin['centroid'] = np.mean(similar_bin['members'], axis=0)\n",
    "    else:\n",
    "        bins.append({'members': [row_values], 'centroid': row_values})\n",
    "\n",
    "# Output the bins\n",
    "for i, bin in enumerate(bins):\n",
    "    print(f\"Bin {i+1}: {len(bin['members'])} members\")\n"
   ]
  },
  {
   "cell_type": "code",
   "execution_count": 37,
   "metadata": {},
   "outputs": [
    {
     "name": "stdout",
     "output_type": "stream",
     "text": [
      "[{'centroid': [0, 0, 0, 0], 'members': [[0, 0, 0, 0]]}, {'members': [[0, 0, 0, 1], [0, 0, 1, 1], [0, 1, 1, 1]], 'centroid': array([0.        , 0.33333333, 0.66666667, 1.        ])}, {'members': [[0, 0, 1, 0], [0, 1, 1, 0], [1, 1, 1, 0]], 'centroid': array([0.33333333, 0.66666667, 1.        , 0.        ])}, {'members': [[0, 1, 0, 0], [0, 1, 0, 1]], 'centroid': array([0. , 1. , 0. , 0.5])}, {'members': [[1, 0, 0, 0], [1, 0, 0, 1]], 'centroid': array([1. , 0. , 0. , 0.5])}, {'members': [[1, 0, 1, 0], [1, 0, 1, 1], [1, 1, 1, 1]], 'centroid': array([1.        , 0.33333333, 1.        , 0.66666667])}, {'members': [[1, 1, 0, 0], [1, 1, 0, 1]], 'centroid': array([1. , 1. , 0. , 0.5])}]\n"
     ]
    }
   ],
   "source": [
    "print(bins)"
   ]
  },
  {
   "cell_type": "code",
   "execution_count": 40,
   "metadata": {},
   "outputs": [
    {
     "name": "stdout",
     "output_type": "stream",
     "text": [
      "Bin 1: 1 members, Centroid: [0, 0, 0, 0]\n",
      "Bin 2: 4 members, Centroid: [0.   0.   0.75 1.  ]\n",
      "Bin 3: 3 members, Centroid: [0. 0. 1. 0.]\n",
      "Bin 4: 2 members, Centroid: [0.  1.  0.  0.5]\n",
      "Bin 5: 2 members, Centroid: [1.  0.  0.  0.5]\n",
      "Bin 6: 4 members, Centroid: [1.  1.  0.5 0.5]\n"
     ]
    }
   ],
   "source": [
    "import polars as pl\n",
    "from sklearn.metrics.pairwise import cosine_similarity\n",
    "import numpy as np\n",
    "import itertools\n",
    "\n",
    "# Generate all possible combinations of the 4 features\n",
    "combinations = list(itertools.product([0, 1], repeat=4))\n",
    "\n",
    "# Create a DataFrame from the combinations\n",
    "data = {\n",
    "    'feature1': [comb[0] for comb in combinations],\n",
    "    'feature2': [comb[1] for comb in combinations],\n",
    "    'feature3': [comb[2] for comb in combinations],\n",
    "    'feature4': [comb[3] for comb in combinations]\n",
    "}\n",
    "df = pl.DataFrame(data)\n",
    "\n",
    "# Similarity threshold\n",
    "threshold = 0.7\n",
    "\n",
    "# Assume feature1 and feature2 are one-hot encoded, while feature3 and feature4 are numerical integers\n",
    "one_hot_features = ['feature1', 'feature2']\n",
    "numerical_features = ['feature3', 'feature4']\n",
    "\n",
    "bins = []\n",
    "\n",
    "for board_game in df.iter_rows(named=True):\n",
    "    row_values = list(board_game.values())\n",
    "    if not bins:\n",
    "        bins.append({\n",
    "            'centroid': row_values,\n",
    "            'members': [row_values]\n",
    "        })\n",
    "        continue\n",
    "\n",
    "    similar_bin = None\n",
    "    similarity = -np.inf\n",
    "    for bin in bins:\n",
    "        current_similarity = cosine_similarity([row_values], [bin['centroid']])[0][0]\n",
    "        if current_similarity > max(similarity, threshold):\n",
    "            similar_bin = bin\n",
    "            similarity = current_similarity\n",
    "\n",
    "    if similar_bin:\n",
    "        similar_bin['members'].append(row_values)\n",
    "        members_array = np.array(similar_bin['members'])\n",
    "        new_centroid = np.mean(members_array, axis=0)\n",
    "\n",
    "        # Round one-hot encoded features to integers\n",
    "        for feature in one_hot_features:\n",
    "            index = df.columns.index(feature)\n",
    "            new_centroid[index] = np.round(new_centroid[index]).astype(int)\n",
    "\n",
    "        similar_bin['centroid'] = new_centroid\n",
    "    else:\n",
    "        bins.append({'members': [row_values], 'centroid': row_values})\n",
    "\n",
    "# Output the bins\n",
    "for i, bin in enumerate(bins):\n",
    "    print(f\"Bin {i+1}: {len(bin['members'])} members, Centroid: {bin['centroid']}\")\n"
   ]
  },
  {
   "cell_type": "code",
   "execution_count": 39,
   "metadata": {},
   "outputs": [
    {
     "name": "stdout",
     "output_type": "stream",
     "text": [
      "[{'centroid': [0, 0, 0, 0], 'members': [[0, 0, 0, 0]]}, {'members': [[0, 0, 0, 1], [0, 0, 1, 1], [0, 1, 0, 1], [1, 0, 0, 1]], 'centroid': array([0, 0, 0, 1])}, {'members': [[0, 0, 1, 0], [0, 1, 1, 0], [1, 0, 1, 0]], 'centroid': array([0, 0, 1, 0])}, {'members': [[0, 1, 0, 0], [1, 1, 0, 0]], 'centroid': array([0, 1, 0, 0])}, {'members': [[0, 1, 1, 1], [1, 1, 1, 1]], 'centroid': array([0, 1, 1, 1])}, {'members': [[1, 0, 0, 0]], 'centroid': [1, 0, 0, 0]}, {'members': [[1, 0, 1, 1]], 'centroid': [1, 0, 1, 1]}, {'members': [[1, 1, 0, 1]], 'centroid': [1, 1, 0, 1]}, {'members': [[1, 1, 1, 0]], 'centroid': [1, 1, 1, 0]}]\n"
     ]
    }
   ],
   "source": [
    "print(bins)"
   ]
  }
 ],
 "metadata": {
  "kernelspec": {
   "display_name": "Python 3",
   "language": "python",
   "name": "python3"
  },
  "language_info": {
   "codemirror_mode": {
    "name": "ipython",
    "version": 3
   },
   "file_extension": ".py",
   "mimetype": "text/x-python",
   "name": "python",
   "nbconvert_exporter": "python",
   "pygments_lexer": "ipython3",
   "version": "3.11.3"
  }
 },
 "nbformat": 4,
 "nbformat_minor": 2
}
