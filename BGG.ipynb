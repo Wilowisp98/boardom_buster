{
 "cells": [
  {
   "cell_type": "code",
   "execution_count": 31,
   "metadata": {},
   "outputs": [
    {
     "name": "stdout",
     "output_type": "stream",
     "text": [
      "Cathedral\n",
      "Dragonmaster\n",
      "Samurai\n",
      "El Caballero\n",
      "Acquire\n",
      "Tal der Könige\n",
      "Die Macher\n",
      "Mare Mediterraneum\n",
      "Lords of Creation\n",
      "('Die Macher', {'link': 'https://boardgamegeek.com/market/product/3636729', 'value': 18.0}, 65.62899999999999)\n",
      "('Dragonmaster', {'link': 'NA', 'value': inf}, 0)\n",
      "('Samurai', {'link': 'https://boardgamegeek.com/market/product/3630338', 'value': 60.0}, 79.39933333333333)\n",
      "('Tal der Könige', {'link': 'https://boardgamegeek.com/market/product/672651', 'value': 19.0}, 29.181818181818183)\n",
      "('Acquire', {'link': 'https://boardgamegeek.com/market/product/3605513', 'value': 3.0}, 53.52687500000001)\n",
      "('Mare Mediterraneum', {'link': 'https://boardgamegeek.com/market/product/650976', 'value': 175.0}, 175.0)\n",
      "('Cathedral', {'link': 'https://boardgamegeek.com/market/product/2780856', 'value': 12.0}, 30.1)\n",
      "('Lords of Creation', {'link': 'https://boardgamegeek.com/market/product/3040534', 'value': 9.0}, 22.412499999999998)\n",
      "('El Caballero', {'link': 'https://boardgamegeek.com/market/product/2223298', 'value': 9.0}, 18.044)\n"
     ]
    }
   ],
   "source": [
    "import requests\n",
    "import xmltodict\n",
    "import asyncio\n",
    "from typing import Dict, Tuple, Union, Optional, List\n",
    "\n",
    "def make_request(url: str, params: dict) -> requests.Response:\n",
    "    response = requests.get(url=url, params=params)\n",
    "    return response\n",
    "\n",
    "async def api_request(url: str, params: dict) -> requests.Response:\n",
    "    return await asyncio.to_thread(make_request, url, params)\n",
    "\n",
    "async def main():\n",
    "    client = BGGClient()\n",
    "    tasks = [client.get_game_market_data(i) for i in range(1, 10)]\n",
    "    result = await asyncio.gather(*tasks)\n",
    "    return result\n",
    "\n",
    "class BGGClient:\n",
    "    def __init__(self, base_url: str = \"https://boardgamegeek.com/xmlapi2\"):\n",
    "        self.base_url = base_url\n",
    "\n",
    "    async def get_game_market_data(self, game_id: int, retry_delay: int = 5, max_retries: int = 3) -> Tuple[str, Dict[str, Union[str, float]], float]:\n",
    "        \"\"\"\n",
    "        Fetches detailed market information for a specific game\n",
    "        \n",
    "        Args:\n",
    "            game_id: BGG game ID\n",
    "            retry_delay: Seconds to wait between retries\n",
    "            max_retries: Maximum number of retry attempts\n",
    "            \n",
    "        Returns:\n",
    "            Tuple of (game_name, min_price_data, average_price)\n",
    "        \n",
    "        Raises:\n",
    "            Exception: If API request fails or data processing fails\n",
    "        \"\"\"\n",
    "        endpoint = f\"{self.base_url}/thing\"\n",
    "        params = {\n",
    "            \"id\": game_id,\n",
    "            \"type\": \"boardgame\",\n",
    "            \"marketplace\": 1 \n",
    "        }\n",
    "        \n",
    "        response_data = None\n",
    "        for attempt in range(max_retries):\n",
    "            response = await api_request(url=endpoint, params=params)\n",
    "            \n",
    "            if response.status_code == 200:\n",
    "                response_data = xmltodict.parse(response.content)\n",
    "                # print(f\"Debug: Response data for game ID {game_id}: {response_data}\")  # Debug logging\n",
    "                break\n",
    "            elif response.status_code == 202:\n",
    "                print(f\"Request queued, retrying in {retry_delay} seconds...\")\n",
    "                await asyncio.sleep(retry_delay)\n",
    "                continue\n",
    "            else:\n",
    "                response.raise_for_status()\n",
    "        \n",
    "        if not response_data:\n",
    "            raise Exception(f\"Failed to get response after {max_retries} attempts\")\n",
    "            \n",
    "        try:\n",
    "            # Extract game name\n",
    "            if isinstance(response_data['items']['item']['name'], list):\n",
    "                # If 'name' is a list, take the first element's '@value'\n",
    "                game_name = response_data['items']['item']['name'][0]['@value']\n",
    "            else:\n",
    "                # If 'name' is not a list, directly access '@value'\n",
    "                game_name = response_data['items']['item']['name']['@value']\n",
    "\n",
    "            print(game_name)\n",
    "            \n",
    "            # Process marketplace listings\n",
    "            min_value = {'link': '', 'value': float('inf')}\n",
    "            price_list = []\n",
    "            \n",
    "            # Handle case where there might be single or multiple listings\n",
    "            listings = response_data['items']['item'].get('marketplacelistings', {}).get('listing', [])\n",
    "            if not isinstance(listings, list):\n",
    "                listings = [listings]\n",
    "                \n",
    "            for listing in listings:\n",
    "                if listing.get('price', {}).get('@currency') != 'EUR':\n",
    "                    continue\n",
    "                price = float(listing['price']['@value'])\n",
    "                price_list.append(price)\n",
    "                if price < min_value['value']:\n",
    "                    min_value['link'] = listing.get('link', {}).get('@href', '')\n",
    "                    min_value['value'] = price\n",
    "\n",
    "            if not price_list:\n",
    "                return (game_name, {'link': 'NA', 'value': float('inf')}, 0)\n",
    "\n",
    "            avg_price = sum(price_list) / len(price_list)\n",
    "            return (game_name, min_value, avg_price)\n",
    "            \n",
    "        except KeyError as e:\n",
    "            raise Exception(f\"Failed to process game data: {str(e)}\")\n",
    "        except ValueError as e:\n",
    "            raise Exception(f\"Failed to process pricing data: {str(e)}\")\n",
    "        except Exception as e:\n",
    "            raise Exception(f\"Unexpected error processing game data: {str(e)}\")\n",
    "\n",
    "if __name__ == \"__main__\":\n",
    "    try:\n",
    "        # Check if an event loop is already running\n",
    "        try:\n",
    "            loop = asyncio.get_running_loop()\n",
    "        except RuntimeError:  # No event loop running\n",
    "            loop = None\n",
    "\n",
    "        if loop:\n",
    "            # If running in an environment with an existing event loop (e.g., Jupyter notebook)\n",
    "            import nest_asyncio\n",
    "            nest_asyncio.apply()  # Allow nested event loops\n",
    "            result = loop.run_until_complete(main())\n",
    "        else:\n",
    "            # If running as a standalone script\n",
    "            result = asyncio.run(main())\n",
    "        \n",
    "        for i in result:\n",
    "            print(i)\n",
    "    except Exception as e:\n",
    "        print(f\"Error: {str(e)}\")"
   ]
  },
  {
   "cell_type": "code",
   "execution_count": 20,
   "metadata": {},
   "outputs": [
    {
     "ename": "NameError",
     "evalue": "name 'result' is not defined",
     "output_type": "error",
     "traceback": [
      "\u001b[1;31m---------------------------------------------------------------------------\u001b[0m",
      "\u001b[1;31mNameError\u001b[0m                                 Traceback (most recent call last)",
      "Cell \u001b[1;32mIn[20], line 1\u001b[0m\n\u001b[1;32m----> 1\u001b[0m \u001b[43mresult\u001b[49m\n",
      "\u001b[1;31mNameError\u001b[0m: name 'result' is not defined"
     ]
    }
   ],
   "source": [
    "result"
   ]
  },
  {
   "cell_type": "code",
   "execution_count": 5,
   "metadata": {},
   "outputs": [
    {
     "name": "stdout",
     "output_type": "stream",
     "text": [
      "{'listing': [{'listdate': {'@value': 'Mon, 19 Nov 2018 19:35:29 +0000'}, 'price': {'@currency': 'GBP', '@value': '20.00'}, 'condition': {'@value': 'verygood'}, 'notes': {'@value': 'U.K. Shipping &#194;&#163;3, free collection from Brighton&#10;&#10;One token missing'}, 'link': {'@href': 'https://boardgamegeek.com/market/product/1673901', '@title': 'marketlisting'}}, {'listdate': {'@value': 'Mon, 15 Apr 2019 15:16:03 +0000'}, 'price': {'@currency': 'EUR', '@value': '20.00'}, 'condition': {'@value': 'likenew'}, 'notes': {'@value': 'opened but unplayed'}, 'link': {'@href': 'https://boardgamegeek.com/market/product/1817930', '@title': 'marketlisting'}}, {'listdate': {'@value': 'Sat, 25 May 2019 09:34:47 +0000'}, 'price': {'@currency': 'GBP', '@value': '7.00'}, 'condition': {'@value': 'verygood'}, 'notes': {'@value': 'Played only once'}, 'link': {'@href': 'https://boardgamegeek.com/market/product/1852584', '@title': 'marketlisting'}}, {'listdate': {'@value': 'Fri, 31 May 2019 23:13:12 +0000'}, 'price': {'@currency': 'USD', '@value': '20.00'}, 'condition': {'@value': 'verygood'}, 'notes': {'@value': 'Has never been played. Box has fading from sunlight but otherwise intact.'}, 'link': {'@href': 'https://boardgamegeek.com/market/product/1856909', '@title': 'marketlisting'}}, {'listdate': {'@value': 'Sat, 18 Jan 2020 17:06:52 +0000'}, 'price': {'@currency': 'GBP', '@value': '15.00'}, 'condition': {'@value': 'good'}, 'notes': {'@value': 'includes P&P in UK'}, 'link': {'@href': 'https://boardgamegeek.com/market/product/2047179', '@title': 'marketlisting'}}, {'listdate': {'@value': 'Tue, 20 Oct 2020 09:02:32 +0000'}, 'price': {'@currency': 'EUR', '@value': '13.00'}, 'condition': {'@value': 'verygood'}, 'notes': {'@value': 'incluse regole in italiano'}, 'link': {'@href': 'https://boardgamegeek.com/market/product/2351600', '@title': 'marketlisting'}}, {'listdate': {'@value': 'Mon, 10 May 2021 18:06:25 +0000'}, 'price': {'@currency': 'EUR', '@value': '24.99'}, 'condition': {'@value': 'verygood'}, 'notes': {'@value': 'Payment is possible with Revolut, PayPal, or a bank transfer.&#10;&#10;Please ask for shipping :)'}, 'link': {'@href': 'https://boardgamegeek.com/market/product/2549857', '@title': 'marketlisting'}}, {'listdate': {'@value': 'Sun, 21 Nov 2021 12:26:48 +0000'}, 'price': {'@currency': 'GBP', '@value': '15.00'}, 'condition': {'@value': 'good'}, 'notes': {'@value': 'Postage to UK only'}, 'link': {'@href': 'https://boardgamegeek.com/market/product/2708405', '@title': 'marketlisting'}}, {'listdate': {'@value': 'Sun, 31 Jul 2022 01:38:38 +0000'}, 'price': {'@currency': 'USD', '@value': '24.49'}, 'condition': {'@value': 'new'}, 'notes': {'@value': \"[size=14][b][u]Comments:[/u][/b][/size] &#10;&#10;To see other items that I have for sale (and perhaps mitigate shipping costs) enter the following into your browser: http://www.boardgamegeek.com/geekmarket/user/Paladin82Y .&#10;I will do my best to make this an easy transaction for you.  You can review my track record of success here&#226;&#128;&#166; https://boardgamegeek.com/geekmarket/user/Paladin82Y/feedback.  Also, have been on ebay since 1997 with 100% positive feedback.&#10;Note that I am not a store but just a gamer like you (although one that lost his mind and purchased waaaay too many games over the last 30 years). I have tried to accurately describe my offerings from a gamer's perspective. If you are a collector or re-seller and need more details, just let me know.&#10;In general, I'm mindful about the condition of my games while playing, but I am not a rabid preservationist... I often discard advertisements and inserts (so please assume that if an insert was originally included in the box that it is gone - if an insert is important to you, please ask about it).  Furthermore, most played games (with cards) were sleeved during play... but unless specifically and explicitly noted otherwise, any sleeves will have been removed before the game was offered for sale.&#10;&#10;&#10;[size=14][b][u]Condition Notes:[/u][/b][/size] &#10;Smoke-free home.  Pet-free home.  COVID-free home.&#10;Still in shrinkwrap.&#10;&#10;[b][u]Edition Notes:[/u][/b] English.&#10;&#10;&#10;[size=14][b][u]Shipping Notes:[/u][/b][/size]&#10;&#10;You are welcome to reduce the shipping costs to $0.00 by picking up the item in Waukee.  Although it is more rare now, I do sometimes attend one of the many local Game Nights close to Waukee, IA (see https://www.boardgamegeek.com/guild/1365) and it might be possible to meet there.  &#10;Otherwise--Yes, I will gladly combine orders to reduce your per-item shipping costs. (To find other items to add to your order see http://www.boardgamegeek.com/geekmarket/user/Paladin82Y).&#10;&#10;When placing an order, please provide a contact phone number--this is ONLY in case there are shipping issues--I am NOT planning to call you. Also, please provide a direct/external (non-BGG) email address.&#10;&#10;Finally, if at all possible, please provide a business (rather than a residential) shipping address and let me know that the address you are providing is a business address (this may expedite delivery).&#10;&#10;&#10;[size=14][b][u]Payment Notes:[/u][/b][/size]&#10;**Note that the listed offered price includes a small discount for a cash (cash, money order, Amazon Gift Card, western union) payment.  I cannot include the discount for payments made via Paypal.&#10;&#10;[b][i]US buyers:[/i][/b]&#10;When placing the order, let me know if you would like to purchase the optional insurance offered by the shipping company. I cannot remember ever having any material problems, but theoretically there is some risk. If the receiver (you) does NOT request (and does NOT pay extra for) insurance (decision is totally up to you) then the receiver (you) agrees to assume responsibility for lost or damaged packages. I know that this paragraph sounds scary, but my lawyer makes me include this -- again, this is probably a non-issue -- I have never had a package that I shipped go missing and think that I have had two people mention extremely minor blemishes incurred during shipping in the last 600 BGG items that I have shipped.&#10;See the [i][b]Info from Seller[/b][/i] Section below for more critically important details on payment options.&#10; &#10;[b][i]non-US buyers:[/i][/b]&#10;See the [i][b]Info from Seller[/b][/i] Section below for more critically important details on shipping and payment options.\"}, 'link': {'@href': 'https://boardgamegeek.com/market/product/2925043', '@title': 'marketlisting'}}, {'listdate': {'@value': 'Sun, 23 Oct 2022 13:03:56 +0000'}, 'price': {'@currency': 'EUR', '@value': '15.00'}, 'condition': {'@value': 'good'}, 'notes': {'@value': ''}, 'link': {'@href': 'https://boardgamegeek.com/market/product/2993768', '@title': 'marketlisting'}}, {'listdate': {'@value': 'Tue, 11 Jul 2023 17:50:57 +0000'}, 'price': {'@currency': 'USD', '@value': '15.00'}, 'condition': {'@value': 'good'}, 'notes': {'@value': ''}, 'link': {'@href': 'https://boardgamegeek.com/market/product/3207956', '@title': 'marketlisting'}}, {'listdate': {'@value': 'Wed, 24 Apr 2024 15:48:01 +0000'}, 'price': {'@currency': 'USD', '@value': '25.00'}, 'condition': {'@value': 'likenew'}, 'notes': {'@value': ''}, 'link': {'@href': 'https://boardgamegeek.com/market/product/3440012', '@title': 'marketlisting'}}, {'listdate': {'@value': 'Tue, 04 Jun 2024 12:46:47 +0000'}, 'price': {'@currency': 'EUR', '@value': '13.00'}, 'condition': {'@value': 'verygood'}, 'notes': {'@value': 'von F.X. Schmid&#10;&#10;+ Versand&#10;Kombiversand m&#195;&#182;glich&#10;&#10;Sepa&#195;&#188;berweisung&#10;&#10;+ shipping&#10;eg: Shipping in Germany 7,- in EU 16,50 (small packages 5,50 in Germany, 13 in EU)&#10;&#10;check out my other games to save on shipping&#10;&#10;&#10;Sepa transfer'}, 'link': {'@href': 'https://boardgamegeek.com/market/product/3469984', '@title': 'marketlisting'}}, {'listdate': {'@value': 'Sun, 21 Jul 2024 18:41:37 +0000'}, 'price': {'@currency': 'USD', '@value': '20.00'}, 'condition': {'@value': 'verygood'}, 'notes': {'@value': ''}, 'link': {'@href': 'https://boardgamegeek.com/market/product/3509506', '@title': 'marketlisting'}}, {'listdate': {'@value': 'Mon, 26 Aug 2024 22:04:48 +0000'}, 'price': {'@currency': 'USD', '@value': '20.00'}, 'condition': {'@value': 'new'}, 'notes': {'@value': 'In original shrink. &#10;&#10;Shipping will be via USPS flat rate small box at whatever they charge me. Or you can pick up for free in Oakland.'}, 'link': {'@href': 'https://boardgamegeek.com/market/product/3533251', '@title': 'marketlisting'}}, {'listdate': {'@value': 'Tue, 31 Dec 2024 12:45:30 +0000'}, 'price': {'@currency': 'EUR', '@value': '12.00'}, 'condition': {'@value': 'good'}, 'notes': {'@value': ''}, 'link': {'@href': 'https://boardgamegeek.com/market/product/3635503', '@title': 'marketlisting'}}]}\n"
     ]
    }
   ],
   "source": [
    "print(game_details['items']['item']['marketplacelistings'])"
   ]
  },
  {
   "cell_type": "code",
   "execution_count": 7,
   "metadata": {},
   "outputs": [
    {
     "name": "stdout",
     "output_type": "stream",
     "text": [
      "{'listdate': {'@value': 'Mon, 19 Nov 2018 19:35:29 +0000'}, 'price': {'@currency': 'GBP', '@value': '20.00'}, 'condition': {'@value': 'verygood'}, 'notes': {'@value': 'U.K. Shipping &#194;&#163;3, free collection from Brighton&#10;&#10;One token missing'}, 'link': {'@href': 'https://boardgamegeek.com/market/product/1673901', '@title': 'marketlisting'}}\n",
      "{'listdate': {'@value': 'Mon, 15 Apr 2019 15:16:03 +0000'}, 'price': {'@currency': 'EUR', '@value': '20.00'}, 'condition': {'@value': 'likenew'}, 'notes': {'@value': 'opened but unplayed'}, 'link': {'@href': 'https://boardgamegeek.com/market/product/1817930', '@title': 'marketlisting'}}\n",
      "{'listdate': {'@value': 'Sat, 25 May 2019 09:34:47 +0000'}, 'price': {'@currency': 'GBP', '@value': '7.00'}, 'condition': {'@value': 'verygood'}, 'notes': {'@value': 'Played only once'}, 'link': {'@href': 'https://boardgamegeek.com/market/product/1852584', '@title': 'marketlisting'}}\n",
      "{'listdate': {'@value': 'Fri, 31 May 2019 23:13:12 +0000'}, 'price': {'@currency': 'USD', '@value': '20.00'}, 'condition': {'@value': 'verygood'}, 'notes': {'@value': 'Has never been played. Box has fading from sunlight but otherwise intact.'}, 'link': {'@href': 'https://boardgamegeek.com/market/product/1856909', '@title': 'marketlisting'}}\n",
      "{'listdate': {'@value': 'Sat, 18 Jan 2020 17:06:52 +0000'}, 'price': {'@currency': 'GBP', '@value': '15.00'}, 'condition': {'@value': 'good'}, 'notes': {'@value': 'includes P&P in UK'}, 'link': {'@href': 'https://boardgamegeek.com/market/product/2047179', '@title': 'marketlisting'}}\n",
      "{'listdate': {'@value': 'Tue, 20 Oct 2020 09:02:32 +0000'}, 'price': {'@currency': 'EUR', '@value': '13.00'}, 'condition': {'@value': 'verygood'}, 'notes': {'@value': 'incluse regole in italiano'}, 'link': {'@href': 'https://boardgamegeek.com/market/product/2351600', '@title': 'marketlisting'}}\n",
      "{'listdate': {'@value': 'Mon, 10 May 2021 18:06:25 +0000'}, 'price': {'@currency': 'EUR', '@value': '24.99'}, 'condition': {'@value': 'verygood'}, 'notes': {'@value': 'Payment is possible with Revolut, PayPal, or a bank transfer.&#10;&#10;Please ask for shipping :)'}, 'link': {'@href': 'https://boardgamegeek.com/market/product/2549857', '@title': 'marketlisting'}}\n",
      "{'listdate': {'@value': 'Sun, 21 Nov 2021 12:26:48 +0000'}, 'price': {'@currency': 'GBP', '@value': '15.00'}, 'condition': {'@value': 'good'}, 'notes': {'@value': 'Postage to UK only'}, 'link': {'@href': 'https://boardgamegeek.com/market/product/2708405', '@title': 'marketlisting'}}\n",
      "{'listdate': {'@value': 'Sun, 31 Jul 2022 01:38:38 +0000'}, 'price': {'@currency': 'USD', '@value': '24.49'}, 'condition': {'@value': 'new'}, 'notes': {'@value': \"[size=14][b][u]Comments:[/u][/b][/size] &#10;&#10;To see other items that I have for sale (and perhaps mitigate shipping costs) enter the following into your browser: http://www.boardgamegeek.com/geekmarket/user/Paladin82Y .&#10;I will do my best to make this an easy transaction for you.  You can review my track record of success here&#226;&#128;&#166; https://boardgamegeek.com/geekmarket/user/Paladin82Y/feedback.  Also, have been on ebay since 1997 with 100% positive feedback.&#10;Note that I am not a store but just a gamer like you (although one that lost his mind and purchased waaaay too many games over the last 30 years). I have tried to accurately describe my offerings from a gamer's perspective. If you are a collector or re-seller and need more details, just let me know.&#10;In general, I'm mindful about the condition of my games while playing, but I am not a rabid preservationist... I often discard advertisements and inserts (so please assume that if an insert was originally included in the box that it is gone - if an insert is important to you, please ask about it).  Furthermore, most played games (with cards) were sleeved during play... but unless specifically and explicitly noted otherwise, any sleeves will have been removed before the game was offered for sale.&#10;&#10;&#10;[size=14][b][u]Condition Notes:[/u][/b][/size] &#10;Smoke-free home.  Pet-free home.  COVID-free home.&#10;Still in shrinkwrap.&#10;&#10;[b][u]Edition Notes:[/u][/b] English.&#10;&#10;&#10;[size=14][b][u]Shipping Notes:[/u][/b][/size]&#10;&#10;You are welcome to reduce the shipping costs to $0.00 by picking up the item in Waukee.  Although it is more rare now, I do sometimes attend one of the many local Game Nights close to Waukee, IA (see https://www.boardgamegeek.com/guild/1365) and it might be possible to meet there.  &#10;Otherwise--Yes, I will gladly combine orders to reduce your per-item shipping costs. (To find other items to add to your order see http://www.boardgamegeek.com/geekmarket/user/Paladin82Y).&#10;&#10;When placing an order, please provide a contact phone number--this is ONLY in case there are shipping issues--I am NOT planning to call you. Also, please provide a direct/external (non-BGG) email address.&#10;&#10;Finally, if at all possible, please provide a business (rather than a residential) shipping address and let me know that the address you are providing is a business address (this may expedite delivery).&#10;&#10;&#10;[size=14][b][u]Payment Notes:[/u][/b][/size]&#10;**Note that the listed offered price includes a small discount for a cash (cash, money order, Amazon Gift Card, western union) payment.  I cannot include the discount for payments made via Paypal.&#10;&#10;[b][i]US buyers:[/i][/b]&#10;When placing the order, let me know if you would like to purchase the optional insurance offered by the shipping company. I cannot remember ever having any material problems, but theoretically there is some risk. If the receiver (you) does NOT request (and does NOT pay extra for) insurance (decision is totally up to you) then the receiver (you) agrees to assume responsibility for lost or damaged packages. I know that this paragraph sounds scary, but my lawyer makes me include this -- again, this is probably a non-issue -- I have never had a package that I shipped go missing and think that I have had two people mention extremely minor blemishes incurred during shipping in the last 600 BGG items that I have shipped.&#10;See the [i][b]Info from Seller[/b][/i] Section below for more critically important details on payment options.&#10; &#10;[b][i]non-US buyers:[/i][/b]&#10;See the [i][b]Info from Seller[/b][/i] Section below for more critically important details on shipping and payment options.\"}, 'link': {'@href': 'https://boardgamegeek.com/market/product/2925043', '@title': 'marketlisting'}}\n",
      "{'listdate': {'@value': 'Sun, 23 Oct 2022 13:03:56 +0000'}, 'price': {'@currency': 'EUR', '@value': '15.00'}, 'condition': {'@value': 'good'}, 'notes': {'@value': ''}, 'link': {'@href': 'https://boardgamegeek.com/market/product/2993768', '@title': 'marketlisting'}}\n",
      "{'listdate': {'@value': 'Tue, 11 Jul 2023 17:50:57 +0000'}, 'price': {'@currency': 'USD', '@value': '15.00'}, 'condition': {'@value': 'good'}, 'notes': {'@value': ''}, 'link': {'@href': 'https://boardgamegeek.com/market/product/3207956', '@title': 'marketlisting'}}\n",
      "{'listdate': {'@value': 'Wed, 24 Apr 2024 15:48:01 +0000'}, 'price': {'@currency': 'USD', '@value': '25.00'}, 'condition': {'@value': 'likenew'}, 'notes': {'@value': ''}, 'link': {'@href': 'https://boardgamegeek.com/market/product/3440012', '@title': 'marketlisting'}}\n",
      "{'listdate': {'@value': 'Tue, 04 Jun 2024 12:46:47 +0000'}, 'price': {'@currency': 'EUR', '@value': '13.00'}, 'condition': {'@value': 'verygood'}, 'notes': {'@value': 'von F.X. Schmid&#10;&#10;+ Versand&#10;Kombiversand m&#195;&#182;glich&#10;&#10;Sepa&#195;&#188;berweisung&#10;&#10;+ shipping&#10;eg: Shipping in Germany 7,- in EU 16,50 (small packages 5,50 in Germany, 13 in EU)&#10;&#10;check out my other games to save on shipping&#10;&#10;&#10;Sepa transfer'}, 'link': {'@href': 'https://boardgamegeek.com/market/product/3469984', '@title': 'marketlisting'}}\n",
      "{'listdate': {'@value': 'Sun, 21 Jul 2024 18:41:37 +0000'}, 'price': {'@currency': 'USD', '@value': '20.00'}, 'condition': {'@value': 'verygood'}, 'notes': {'@value': ''}, 'link': {'@href': 'https://boardgamegeek.com/market/product/3509506', '@title': 'marketlisting'}}\n",
      "{'listdate': {'@value': 'Mon, 26 Aug 2024 22:04:48 +0000'}, 'price': {'@currency': 'USD', '@value': '20.00'}, 'condition': {'@value': 'new'}, 'notes': {'@value': 'In original shrink. &#10;&#10;Shipping will be via USPS flat rate small box at whatever they charge me. Or you can pick up for free in Oakland.'}, 'link': {'@href': 'https://boardgamegeek.com/market/product/3533251', '@title': 'marketlisting'}}\n",
      "{'listdate': {'@value': 'Tue, 31 Dec 2024 12:45:30 +0000'}, 'price': {'@currency': 'EUR', '@value': '12.00'}, 'condition': {'@value': 'good'}, 'notes': {'@value': ''}, 'link': {'@href': 'https://boardgamegeek.com/market/product/3635503', '@title': 'marketlisting'}}\n"
     ]
    }
   ],
   "source": [
    "for i in game_details['items']['item']['marketplacelistings']['listing']:\n",
    "    print(i)"
   ]
  },
  {
   "cell_type": "code",
   "execution_count": 32,
   "metadata": {},
   "outputs": [
    {
     "name": "stdout",
     "output_type": "stream",
     "text": [
      "@type\n",
      "@id\n",
      "thumbnail\n",
      "image\n",
      "name\n",
      "description\n",
      "yearpublished\n",
      "minplayers\n",
      "maxplayers\n",
      "poll\n",
      "poll-summary\n",
      "playingtime\n",
      "minplaytime\n",
      "maxplaytime\n",
      "minage\n",
      "link\n",
      "marketplacelistings\n"
     ]
    }
   ],
   "source": [
    "for i in game_details['items']['item']:\n",
    "    print(i)"
   ]
  }
 ],
 "metadata": {
  "kernelspec": {
   "display_name": "Python 3",
   "language": "python",
   "name": "python3"
  },
  "language_info": {
   "codemirror_mode": {
    "name": "ipython",
    "version": 3
   },
   "file_extension": ".py",
   "mimetype": "text/x-python",
   "name": "python",
   "nbconvert_exporter": "python",
   "pygments_lexer": "ipython3",
   "version": "3.10.11"
  }
 },
 "nbformat": 4,
 "nbformat_minor": 2
}
